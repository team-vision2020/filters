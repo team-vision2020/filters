{
 "cells": [
  {
   "cell_type": "code",
   "execution_count": 34,
   "metadata": {},
   "outputs": [],
   "source": [
    "# Imports\n",
    "import numpy as np\n",
    "import cv2\n",
    "from sklearn import preprocessing\n",
    "import skimage\n",
    "from instaFilters import gotham, gingham, clarendon, juno, lark, reyes\n",
    "\n",
    "# return scene probability vector\n",
    "# suppose we have x supported scenes\n",
    "NUM_SCENES = 9\n",
    "FEATURE_LENGTH = 30\n",
    "def scene_vector(image):\n",
    "    scene_prob = np.zeros(NUM_SCENES)\n",
    "    scene_prob[0] = 1\n",
    "    return scene_prob[..., np.newaxis] # NUM_SCENES x 1\n",
    "\n",
    "from skimage.color import rgb2hsv\n",
    "# normalized feature vector\n",
    "# expects float32 image\n",
    "def get_features(image):\n",
    "    # just a color histogram for now (remember to test hsv)\n",
    "    # https://docs.opencv.org/3.1.0/d1/db7/tutorial_py_histogram_begins.html\n",
    "    # remember mask param\n",
    "    image = rgb2hsv(image).astype('float32')\n",
    "    hist_1 = cv2.calcHist([image], [0], None, [20], [0, 1])\n",
    "    hist_2 = cv2.calcHist([image], [1], None, [5], [0, 1])\n",
    "    hist_3 = cv2.calcHist([image], [2], None, [5], [0, 1])\n",
    "    return np.concatenate((hist_1, hist_2, hist_3))\n",
    "\n",
    "# return dictionary of 'avg' histogram/feature vector of scenes given images (key = scenes)\n",
    "# this should probably be some NN\n",
    "def scene_features(images):\n",
    "    scene_features = np.zeros((NUM_SCENES, FEATURE_LENGTH)) \n",
    "    for image in images:\n",
    "        scene = scene_vector(image)\n",
    "        feature = get_features(image.astype('float32'))\n",
    "        img_hist = np.matmul(scene, feature.T) # image's contributions to scene features - ith row is ith scene's hist\n",
    "        scene_features += img_hist\n",
    "        # matrix multiply scene and feature\n",
    "        # each image contributes normalized amount of info\n",
    "    normal = preprocessing.normalize(scene_features)\n",
    "    return preprocessing.normalize(scene_features)\n",
    "\n"
   ]
  },
  {
   "cell_type": "code",
   "execution_count": 35,
   "metadata": {},
   "outputs": [
    {
     "name": "stdout",
     "output_type": "stream",
     "text": [
      "(1000, 128, 128, 3)\n"
     ]
    },
    {
     "name": "stderr",
     "output_type": "stream",
     "text": [
      "/home/joel/anaconda2/envs/pyEnv/lib/python3.5/site-packages/skimage/color/colorconv.py:278: RuntimeWarning: divide by zero encountered in true_divide\n",
      "  out[idx, 0] = 2. + (arr[idx, 2] - arr[idx, 0]) / delta[idx]\n",
      "/home/joel/anaconda2/envs/pyEnv/lib/python3.5/site-packages/skimage/color/colorconv.py:282: RuntimeWarning: divide by zero encountered in true_divide\n",
      "  out[idx, 0] = 4. + (arr[idx, 0] - arr[idx, 1]) / delta[idx]\n",
      "/home/joel/anaconda2/envs/pyEnv/lib/python3.5/site-packages/skimage/color/colorconv.py:274: RuntimeWarning: divide by zero encountered in true_divide\n",
      "  out[idx, 0] = (arr[idx, 1] - arr[idx, 2]) / delta[idx]\n",
      "/home/joel/anaconda2/envs/pyEnv/lib/python3.5/site-packages/skimage/color/colorconv.py:268: RuntimeWarning: divide by zero encountered in true_divide\n",
      "  out_s = delta / out_v\n"
     ]
    }
   ],
   "source": [
    "# return array of distribution vectors for each filter fn in FILTERS\n",
    "# Todo - add gotham back\n",
    "FILTERS = [gotham, gingham, clarendon, juno, lark, reyes]\n",
    "SCENES = ['abbey', 'airport_terminal', 'amphitheater', 'amusement_park', 'aquarium', 'aqueduct', 'art_gallery', 'assembly_line', 'auditorium']\n",
    "CORPUS_CHARACTERISTIC = './corpus_characteristics.npy'\n",
    "DATA_DIR = 'data/images/train/a/abbey'\n",
    "def create_scene_characteristics():\n",
    "    import glob\n",
    "    filelist = glob.glob('{}/*.jpg'.format(DATA_DIR))\n",
    "    images = np.array([cv2.imread(fname) for fname in filelist])\n",
    "    images = np.asarray([skimage.img_as_float(image).astype('float32') for image in images])\n",
    "    # write characteristics to file\n",
    "    filtered_images = [images]\n",
    "    for filt in FILTERS:\n",
    "        filtered_images.append(filt(images))\n",
    "    feature_distributions = []\n",
    "    for images in filtered_images:\n",
    "        feature_distributions.append(scene_features(images))\n",
    "    all_characteristics = np.asarray(feature_distributions)\n",
    "    np.save(CORPUS_CHARACTERISTIC, all_characteristics)\n",
    "    # shape is (filters + 1) * (scenes) * (feature length)\n",
    "def load_scene_characteristics():\n",
    "    return np.load(CORPUS_CHARACTERISTIC)\n",
    "\n",
    "create_scene_characteristics()"
   ]
  },
  {
   "cell_type": "code",
   "execution_count": 38,
   "metadata": {},
   "outputs": [],
   "source": [
    "# Ported from stack overflow\n",
    "def softmax(x):\n",
    "    \"\"\"Compute softmax values for each sets of scores in x.\"\"\"\n",
    "    e_x = np.exp(x - np.max(x))\n",
    "    return e_x / e_x.sum(axis=0)\n",
    "\n",
    "def classifyFilter(img, characteristics):\n",
    "    scene_vec = scene_vector(img)[0]\n",
    "#     print(scene_vec)\n",
    "    # Take dominant scene for now and reference just that\n",
    "    scene = np.argmax(scene_vec)\n",
    "    scene_filter_features = characteristics[:, scene]\n",
    "    img_features = get_features(skimage.img_as_float(img).astype('float32'))\n",
    "    error_vec = scene_filter_features - img_features.T\n",
    "#     print(scene_filter_features.shape)\n",
    "#     print(img_features.T.shape)\n",
    "#     print(error_vec.shape)\n",
    "#     print(error_vec)\n",
    "    errors = np.linalg.norm(error_vec, axis=1)\n",
    "    print(errors)\n",
    "    scores = 1 / errors\n",
    "#     print(scores)\n",
    "    return softmax(scores)\n",
    "    \n",
    "def generate_test_images(fn):\n",
    "    image = cv2.imread(fn)\n",
    "    fn_base = fn.split('.')[0]\n",
    "    import imageio\n",
    "    imageio.imwrite('data/tests/{}_base.jpg'.format(fn_base), image)\n",
    "    print(image.shape)\n",
    "    image = skimage.img_as_float(image).astype('float32')\n",
    "    from skimage import img_as_ubyte\n",
    "    for i, filt in enumerate(FILTERS):\n",
    "        imageio.imwrite('data/tests/{}_{}.jpg'.format(fn_base, i), img_as_ubyte(filt(image)))\n",
    "# generate_test_images('abbey_test.jpg')\n",
    "    \n",
    "def driver():\n",
    "    img = cv2.imread('abbey_test.jpg')\n",
    "    characteristics = load_scene_characteristics()\n",
    "    x = classifyFilter(img, characteristics)\n",
    "    print(x)"
   ]
  },
  {
   "cell_type": "code",
   "execution_count": 39,
   "metadata": {},
   "outputs": [
    {
     "name": "stdout",
     "output_type": "stream",
     "text": [
      "[ 13696.74111356  13696.80175937  13696.9228207   13696.70299518\n",
      "  13696.757963    13696.72947437  13696.87611617]\n",
      "[ 0.14285714  0.14285714  0.14285714  0.14285714  0.14285714  0.14285714\n",
      "  0.14285714]\n"
     ]
    }
   ],
   "source": [
    "driver()"
   ]
  },
  {
   "cell_type": "code",
   "execution_count": null,
   "metadata": {},
   "outputs": [],
   "source": []
  }
 ],
 "metadata": {
  "kernelspec": {
   "display_name": "Python 3",
   "language": "python",
   "name": "python3"
  },
  "language_info": {
   "codemirror_mode": {
    "name": "ipython",
    "version": 3
   },
   "file_extension": ".py",
   "mimetype": "text/x-python",
   "name": "python",
   "nbconvert_exporter": "python",
   "pygments_lexer": "ipython3",
   "version": "3.5.5"
  }
 },
 "nbformat": 4,
 "nbformat_minor": 2
}
